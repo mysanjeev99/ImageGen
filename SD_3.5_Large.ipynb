{
 "cells": [
  {
   "cell_type": "code",
   "execution_count": null,
   "metadata": {},
   "outputs": [],
   "source": [
    "!pip install torch diffusers transformers pillow\n",
    "!pip3 install ipywidgets"
   ]
  },
  {
   "cell_type": "markdown",
   "metadata": {},
   "source": [
    "## SD3.5 Large"
   ]
  },
  {
   "cell_type": "code",
   "execution_count": null,
   "metadata": {},
   "outputs": [],
   "source": [
    "import torch\n",
    "from diffusers import StableDiffusion3Pipeline\n",
    "from PIL import Image\n",
    "import os\n",
    "\n",
    "# Define custom cache directory for model downloads\n",
    "model_cache_dir = \"sd\" \n",
    "\n",
    "# Define custom directory to save generated images\n",
    "output_image_path = \"sd3.5L_image.png\"\n",
    "\n",
    "# Create the directories if they don't exist\n",
    "os.makedirs(model_cache_dir, exist_ok=True)\n",
    "\n",
    "# Load the Stable Diffusion model with a specified cache directory\n",
    "pipe = StableDiffusion3Pipeline.from_pretrained(\"stabilityai/stable-diffusion-3.5-large\", torch_dtype=torch.bfloat16,cache_dir=model_cache_dir)\n",
    "\n",
    "pipe.to(\"cuda\")  # Move the model to GPU for faster inference\n",
    "\n",
    "# Define your prompt (the text description of the image you want to generate)\n",
    "prompt = \"A futuristic city at sunset, with flying cars and neon lights\"\n",
    "\n",
    "# Generate the image\n",
    "with torch.no_grad():\n",
    "    image = pipe(prompt,num_inference_steps=28,guidance_scale=3.5).images[0]\n",
    "\n",
    "# Save the generated image to the specified path\n",
    "image.save(output_image_path)\n",
    "\n",
    "# Optionally, display the image\n",
    "image.show()\n",
    "\n",
    "print(f\"Image saved to {output_image_path}\")\n"
   ]
  },
  {
   "cell_type": "markdown",
   "metadata": {},
   "source": [
    "## Quantize SD 3.5 Large"
   ]
  },
  {
   "cell_type": "code",
   "execution_count": null,
   "metadata": {},
   "outputs": [],
   "source": [
    "from diffusers import BitsAndBytesConfig, SD3Transformer2DModel\n",
    "import torch\n",
    "\n",
    "# Define the model ID and cache directory\n",
    "model_cache_dir = \"sd/sd3.5lar\"\n",
    "model_id = \"stabilityai/stable-diffusion-3.5-large\"\n",
    "\n",
    "# Quantization configuration (nf4)\n",
    "nf4_config = BitsAndBytesConfig(\n",
    "    load_in_4bit=True,\n",
    "    bnb_4bit_quant_type=\"nf4\",\n",
    "    bnb_4bit_compute_dtype=torch.float16,\n",
    "    cache_dir=model_cache_dir\n",
    ")\n",
    "\n",
    "# Load the model with the quantization config\n",
    "model_nf4 = SD3Transformer2DModel.from_pretrained(\n",
    "    model_id,\n",
    "    subfolder=\"transformer\",\n",
    "    quantization_config=nf4_config,\n",
    "    torch_dtype=torch.float16,\n",
    "    cache_dir=model_cache_dir\n",
    ")\n",
    "\n",
    "# Save the quantized model to the \"quantized_model\" directory\n",
    "quantized_model_dir = \"quantized_model\"\n",
    "model_nf4.save_pretrained(quantized_model_dir)\n",
    "\n",
    "print(f\"Quantized model saved in {quantized_model_dir}\")\n"
   ]
  },
  {
   "cell_type": "markdown",
   "metadata": {},
   "source": [
    "## Running Quantized SD 3.5 Large"
   ]
  },
  {
   "cell_type": "code",
   "execution_count": null,
   "metadata": {},
   "outputs": [],
   "source": [
    "from diffusers import StableDiffusion3Pipeline, SD3Transformer2DModel\n",
    "import torch\n",
    "\n",
    "# Define the model ID and cache directory\n",
    "model_cache_dir = \"sd\"\n",
    "model_id = \"stabilityai/stable-diffusion-3.5-large\"\n",
    "\n",
    "# Load the quantized model from the 'quantized_model' directory\n",
    "quantized_model_dir = \"quantized_model/sd3.5lar\"\n",
    "model_nf4 = SD3Transformer2DModel.from_pretrained(\n",
    "    quantized_model_dir,\n",
    "    torch_dtype=torch.float16,\n",
    "    cache_dir=model_cache_dir\n",
    ")\n",
    "\n",
    "# Load the pipeline using the quantized model\n",
    "pipeline = StableDiffusion3Pipeline.from_pretrained(\n",
    "    model_id,\n",
    "    transformer=model_nf4,\n",
    "    torch_dtype=torch.float16,\n",
    "    cache_dir=model_cache_dir\n",
    ")\n",
    "pipeline.enable_model_cpu_offload()\n",
    "\n",
    "# Define the prompt for image generation\n",
    "prompt = \"anime red hair girl, with yellow eyes, in garden\"\n",
    "\n",
    "# Generate the image\n",
    "image = pipeline(\n",
    "    prompt=prompt,\n",
    "    num_inference_steps=28,\n",
    "    guidance_scale=4.5,\n",
    "    max_sequence_length=512,\n",
    ").images[0]\n",
    "\n",
    "# Save the generated image\n",
    "image.save(\"generated_image_from_quantized_model.png\")\n",
    "print(\"Image generated and saved as 'generated_image_from_quantized_model.png'\")\n",
    "image.show()"
   ]
  }
 ],
 "metadata": {
  "kernelspec": {
   "display_name": "Python 3",
   "language": "python",
   "name": "python3"
  },
  "language_info": {
   "codemirror_mode": {
    "name": "ipython",
    "version": 3
   },
   "file_extension": ".py",
   "mimetype": "text/x-python",
   "name": "python",
   "nbconvert_exporter": "python",
   "pygments_lexer": "ipython3",
   "version": "3.10.11"
  }
 },
 "nbformat": 4,
 "nbformat_minor": 2
}
