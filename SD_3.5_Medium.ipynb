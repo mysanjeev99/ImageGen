{
 "cells": [
  {
   "cell_type": "markdown",
   "metadata": {},
   "source": [
    "## Quantize SD 3.5 Medium"
   ]
  },
  {
   "cell_type": "code",
   "execution_count": null,
   "metadata": {},
   "outputs": [],
   "source": [
    "from diffusers import BitsAndBytesConfig, SD3Transformer2DModel\n",
    "import torch\n",
    "\n",
    "# Define the model ID and cache directory\n",
    "model_cache_dir = \"sd\"\n",
    "model_id = \"stabilityai/stable-diffusion-3.5-medium\"\n",
    "\n",
    "# Quantization configuration (nf4)\n",
    "nf4_config = BitsAndBytesConfig(\n",
    "    load_in_4bit=True,\n",
    "    bnb_4bit_quant_type=\"nf4\",\n",
    "    bnb_4bit_compute_dtype=torch.float16,\n",
    ")\n",
    "\n",
    "# Load the model with the quantization config\n",
    "model_nf4 = SD3Transformer2DModel.from_pretrained(\n",
    "    model_id,\n",
    "    subfolder=\"transformer\",\n",
    "    quantization_config=nf4_config,\n",
    "    torch_dtype=torch.float16,\n",
    "    cache_dir=model_cache_dir\n",
    ")\n",
    "\n",
    "# Save the quantized model to the \"quantized_model\" directory\n",
    "quantized_model_dir = \"quantized_model/sd3.5med\"\n",
    "model_nf4.save_pretrained(quantized_model_dir)\n",
    "\n",
    "print(f\"Quantized model saved in {quantized_model_dir}\")"
   ]
  },
  {
   "cell_type": "markdown",
   "metadata": {},
   "source": [
    "## RUN Quantized SD 3.5 Medium"
   ]
  },
  {
   "cell_type": "code",
   "execution_count": null,
   "metadata": {},
   "outputs": [],
   "source": [
    "from diffusers import StableDiffusion3Pipeline, SD3Transformer2DModel\n",
    "import torch\n",
    "\n",
    "# Define the model ID and cache directory\n",
    "model_cache_dir = \"sd\"\n",
    "model_id = \"stabilityai/stable-diffusion-3.5-large\"\n",
    "\n",
    "# Load the quantized model from the 'quantized_model' directory\n",
    "quantized_model_dir = \"quantized_model/sd3.5med\"\n",
    "model_nf4 = SD3Transformer2DModel.from_pretrained(\n",
    "    quantized_model_dir,\n",
    "    torch_dtype=torch.float16, \n",
    "    cache_dir=model_cache_dir\n",
    ")\n",
    "\n",
    "# Load the pipeline using the quantized model\n",
    "pipeline = StableDiffusion3Pipeline.from_pretrained(\n",
    "    model_id,\n",
    "    transformer=model_nf4,\n",
    "    torch_dtype=torch.float16,\n",
    "    cache_dir=model_cache_dir\n",
    ")\n",
    "pipeline.enable_model_cpu_offload()\n",
    "# Define the prompt for image generation\n",
    "\n",
    "prompt = \"anime red hair girl, with yellow eyes, in garden\"\n",
    "# Generate the image\n",
    "image = pipeline(\n",
    "    prompt=prompt,\n",
    "    num_inference_steps=40,\n",
    "    guidance_scale=4.5,\n",
    ").images[0]\n",
    "\n",
    "# Save the generated image\n",
    "image.save(\"generated_image_from_quantized_model_sd3.5med.png\")\n",
    "print(\"Image generated and saved as 'generated_image_from_quantized_model_sd3.5med.png'\")\n",
    "image.show()"
   ]
  }
 ],
 "metadata": {
  "kernelspec": {
   "display_name": "Python 3",
   "language": "python",
   "name": "python3"
  },
  "language_info": {
   "codemirror_mode": {
    "name": "ipython",
    "version": 3
   },
   "file_extension": ".py",
   "mimetype": "text/x-python",
   "name": "python",
   "nbconvert_exporter": "python",
   "pygments_lexer": "ipython3",
   "version": "3.10.11"
  }
 },
 "nbformat": 4,
 "nbformat_minor": 2
}
